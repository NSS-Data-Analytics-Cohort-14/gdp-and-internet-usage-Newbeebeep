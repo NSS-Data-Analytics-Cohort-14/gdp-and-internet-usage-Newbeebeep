{
 "cells": [
  {
   "cell_type": "code",
   "execution_count": 78,
   "id": "a8b01d7a-b43d-4b35-87bf-2c35a63165a0",
   "metadata": {},
   "outputs": [],
   "source": [
    "#3.\n",
    "    #a. Create a new blank notebook. Save it inside the notebooks folder inside your repository.\n",
    "    #b. In cell 1, Import the required packages with their customary aliases as follows:\n",
    "       # import pandas as pd\n",
    "        #import numpy as np\n",
    "        #import matplotlib.pyplot as plt\n",
    "        #import seaborn as sns\n"
   ]
  },
  {
   "cell_type": "code",
   "execution_count": null,
   "id": "329b5dbd-f161-4a4e-8a0c-ba1c778c03ee",
   "metadata": {},
   "outputs": [],
   "source": [
    " Explore the relationship between a country’s GDP and internet access."
   ]
  },
  {
   "cell_type": "code",
   "execution_count": 79,
   "id": "e15b1df6-88bf-4152-a9ed-ab9b0aa0c3d7",
   "metadata": {},
   "outputs": [],
   "source": [
    "import pandas as pd  \n",
    "import numpy as np  \n",
    "import matplotlib.pyplot as plt  \n",
    "import seaborn as sns"
   ]
  },
  {
   "cell_type": "code",
   "execution_count": 80,
   "id": "35603284-90ae-4437-8df9-1773c5f12d9f",
   "metadata": {},
   "outputs": [],
   "source": [
    "#4.\tUsing the pandas `read_csv()` method, read the GDP dataset into your notebook as a DataFrame called `gdp_df`. Take a look at the first few and last few rows to familiarize yourself with what is contained in this dataset."
   ]
  },
  {
   "cell_type": "code",
   "execution_count": 81,
   "id": "c5bb1cdf-998a-4346-9ace-9e6adec11184",
   "metadata": {},
   "outputs": [],
   "source": [
    "gdp_df = pd.read_csv('gdp_percapita.csv')"
   ]
  },
  {
   "cell_type": "code",
   "execution_count": 82,
   "id": "a6e881e8-0a93-467d-b0b5-3bd9a1a932d1",
   "metadata": {},
   "outputs": [
    {
     "data": {
      "text/html": [
       "<div>\n",
       "<style scoped>\n",
       "    .dataframe tbody tr th:only-of-type {\n",
       "        vertical-align: middle;\n",
       "    }\n",
       "\n",
       "    .dataframe tbody tr th {\n",
       "        vertical-align: top;\n",
       "    }\n",
       "\n",
       "    .dataframe thead th {\n",
       "        text-align: right;\n",
       "    }\n",
       "</style>\n",
       "<table border=\"1\" class=\"dataframe\">\n",
       "  <thead>\n",
       "    <tr style=\"text-align: right;\">\n",
       "      <th></th>\n",
       "      <th>Country or Area</th>\n",
       "      <th>Year</th>\n",
       "      <th>Value</th>\n",
       "      <th>Value Footnotes</th>\n",
       "    </tr>\n",
       "  </thead>\n",
       "  <tbody>\n",
       "    <tr>\n",
       "      <th>0</th>\n",
       "      <td>Afghanistan</td>\n",
       "      <td>2023</td>\n",
       "      <td>1992.424394</td>\n",
       "      <td>NaN</td>\n",
       "    </tr>\n",
       "    <tr>\n",
       "      <th>1</th>\n",
       "      <td>Afghanistan</td>\n",
       "      <td>2022</td>\n",
       "      <td>1981.710168</td>\n",
       "      <td>NaN</td>\n",
       "    </tr>\n",
       "    <tr>\n",
       "      <th>2</th>\n",
       "      <td>Afghanistan</td>\n",
       "      <td>2021</td>\n",
       "      <td>2144.166570</td>\n",
       "      <td>NaN</td>\n",
       "    </tr>\n",
       "    <tr>\n",
       "      <th>3</th>\n",
       "      <td>Afghanistan</td>\n",
       "      <td>2020</td>\n",
       "      <td>2769.685745</td>\n",
       "      <td>NaN</td>\n",
       "    </tr>\n",
       "    <tr>\n",
       "      <th>4</th>\n",
       "      <td>Afghanistan</td>\n",
       "      <td>2019</td>\n",
       "      <td>2927.245144</td>\n",
       "      <td>NaN</td>\n",
       "    </tr>\n",
       "  </tbody>\n",
       "</table>\n",
       "</div>"
      ],
      "text/plain": [
       "  Country or Area  Year        Value  Value Footnotes\n",
       "0     Afghanistan  2023  1992.424394              NaN\n",
       "1     Afghanistan  2022  1981.710168              NaN\n",
       "2     Afghanistan  2021  2144.166570              NaN\n",
       "3     Afghanistan  2020  2769.685745              NaN\n",
       "4     Afghanistan  2019  2927.245144              NaN"
      ]
     },
     "execution_count": 82,
     "metadata": {},
     "output_type": "execute_result"
    }
   ],
   "source": [
    "gdp_df.head()"
   ]
  },
  {
   "cell_type": "code",
   "execution_count": 83,
   "id": "bf82fb7d-a0af-4d75-b424-f2ab46b09a77",
   "metadata": {},
   "outputs": [
    {
     "data": {
      "text/html": [
       "<div>\n",
       "<style scoped>\n",
       "    .dataframe tbody tr th:only-of-type {\n",
       "        vertical-align: middle;\n",
       "    }\n",
       "\n",
       "    .dataframe tbody tr th {\n",
       "        vertical-align: top;\n",
       "    }\n",
       "\n",
       "    .dataframe thead th {\n",
       "        text-align: right;\n",
       "    }\n",
       "</style>\n",
       "<table border=\"1\" class=\"dataframe\">\n",
       "  <thead>\n",
       "    <tr style=\"text-align: right;\">\n",
       "      <th></th>\n",
       "      <th>Country or Area</th>\n",
       "      <th>Year</th>\n",
       "      <th>Value</th>\n",
       "      <th>Value Footnotes</th>\n",
       "    </tr>\n",
       "  </thead>\n",
       "  <tbody>\n",
       "    <tr>\n",
       "      <th>8214</th>\n",
       "      <td>Zimbabwe</td>\n",
       "      <td>1994</td>\n",
       "      <td>3965.730986</td>\n",
       "      <td>NaN</td>\n",
       "    </tr>\n",
       "    <tr>\n",
       "      <th>8215</th>\n",
       "      <td>Zimbabwe</td>\n",
       "      <td>1993</td>\n",
       "      <td>3634.750494</td>\n",
       "      <td>NaN</td>\n",
       "    </tr>\n",
       "    <tr>\n",
       "      <th>8216</th>\n",
       "      <td>Zimbabwe</td>\n",
       "      <td>1992</td>\n",
       "      <td>3649.891947</td>\n",
       "      <td>NaN</td>\n",
       "    </tr>\n",
       "    <tr>\n",
       "      <th>8217</th>\n",
       "      <td>Zimbabwe</td>\n",
       "      <td>1991</td>\n",
       "      <td>4126.405247</td>\n",
       "      <td>NaN</td>\n",
       "    </tr>\n",
       "    <tr>\n",
       "      <th>8218</th>\n",
       "      <td>Zimbabwe</td>\n",
       "      <td>1990</td>\n",
       "      <td>4013.299059</td>\n",
       "      <td>NaN</td>\n",
       "    </tr>\n",
       "  </tbody>\n",
       "</table>\n",
       "</div>"
      ],
      "text/plain": [
       "     Country or Area  Year        Value  Value Footnotes\n",
       "8214        Zimbabwe  1994  3965.730986              NaN\n",
       "8215        Zimbabwe  1993  3634.750494              NaN\n",
       "8216        Zimbabwe  1992  3649.891947              NaN\n",
       "8217        Zimbabwe  1991  4126.405247              NaN\n",
       "8218        Zimbabwe  1990  4013.299059              NaN"
      ]
     },
     "execution_count": 83,
     "metadata": {},
     "output_type": "execute_result"
    }
   ],
   "source": [
    "gdp_df.tail()"
   ]
  },
  {
   "cell_type": "code",
   "execution_count": 84,
   "id": "bb5de9df-da9e-4003-97d1-db9ed217e9b5",
   "metadata": {},
   "outputs": [],
   "source": [
    "#5. How many rows and columns are in `gdp_df`? What are the data types of each column?\n",
    "#The DataFrame has 8219 rows and 4 columns.\n",
    "#dtype: object"
   ]
  },
  {
   "cell_type": "code",
   "execution_count": 85,
   "id": "cc8c88d1-d9ae-441c-b7d0-047d96554ef0",
   "metadata": {
    "scrolled": true
   },
   "outputs": [
    {
     "name": "stdout",
     "output_type": "stream",
     "text": [
      "Shape of gdp_df: (8219, 4)\n",
      "Number of rows: 8219\n",
      "Number of columns: 4\n"
     ]
    }
   ],
   "source": [
    "print(f\"Shape of gdp_df: {gdp_df.shape}\")\n",
    "print(f\"Number of rows: {gdp_df.shape[0]}\")\n",
    "print(f\"Number of columns: {gdp_df.shape[1]}\")"
   ]
  },
  {
   "cell_type": "code",
   "execution_count": 86,
   "id": "7ce16385-8693-4d21-ab47-dffdfb95192d",
   "metadata": {},
   "outputs": [
    {
     "name": "stdout",
     "output_type": "stream",
     "text": [
      "Country or Area     object\n",
      "Year                 int64\n",
      "Value              float64\n",
      "Value Footnotes    float64\n",
      "dtype: object\n"
     ]
    }
   ],
   "source": [
    "print(gdp_df.dtypes)\n"
   ]
  },
  {
   "cell_type": "code",
   "execution_count": 87,
   "id": "fe39e2cf-c9f9-4c53-a4ab-2d048fa3345f",
   "metadata": {},
   "outputs": [
    {
     "name": "stdout",
     "output_type": "stream",
     "text": [
      "<class 'pandas.core.frame.DataFrame'>\n",
      "RangeIndex: 8219 entries, 0 to 8218\n",
      "Data columns (total 4 columns):\n",
      " #   Column           Non-Null Count  Dtype  \n",
      "---  ------           --------------  -----  \n",
      " 0   Country or Area  8219 non-null   object \n",
      " 1   Year             8219 non-null   int64  \n",
      " 2   Value            8219 non-null   float64\n",
      " 3   Value Footnotes  0 non-null      float64\n",
      "dtypes: float64(2), int64(1), object(1)\n",
      "memory usage: 257.0+ KB\n"
     ]
    }
   ],
   "source": [
    "gdp_df.info()"
   ]
  },
  {
   "cell_type": "code",
   "execution_count": 88,
   "id": "b1959156-6494-4b16-b209-1df29e18ffb3",
   "metadata": {},
   "outputs": [],
   "source": [
    "#6. Drop the `Value Footnotes` column and rename the remaining three to 'Country', 'Year', and 'GDP_Per_Capita'.\n"
   ]
  },
  {
   "cell_type": "code",
   "execution_count": 89,
   "id": "14ddc857-3b26-4b14-9736-9be92a04c700",
   "metadata": {},
   "outputs": [
    {
     "data": {
      "text/html": [
       "<div>\n",
       "<style scoped>\n",
       "    .dataframe tbody tr th:only-of-type {\n",
       "        vertical-align: middle;\n",
       "    }\n",
       "\n",
       "    .dataframe tbody tr th {\n",
       "        vertical-align: top;\n",
       "    }\n",
       "\n",
       "    .dataframe thead th {\n",
       "        text-align: right;\n",
       "    }\n",
       "</style>\n",
       "<table border=\"1\" class=\"dataframe\">\n",
       "  <thead>\n",
       "    <tr style=\"text-align: right;\">\n",
       "      <th></th>\n",
       "      <th>Country or Area</th>\n",
       "      <th>Year</th>\n",
       "      <th>Value</th>\n",
       "      <th>Value Footnotes</th>\n",
       "    </tr>\n",
       "  </thead>\n",
       "  <tbody>\n",
       "    <tr>\n",
       "      <th>0</th>\n",
       "      <td>Afghanistan</td>\n",
       "      <td>2023</td>\n",
       "      <td>1992.424394</td>\n",
       "      <td>NaN</td>\n",
       "    </tr>\n",
       "    <tr>\n",
       "      <th>1</th>\n",
       "      <td>Afghanistan</td>\n",
       "      <td>2022</td>\n",
       "      <td>1981.710168</td>\n",
       "      <td>NaN</td>\n",
       "    </tr>\n",
       "    <tr>\n",
       "      <th>2</th>\n",
       "      <td>Afghanistan</td>\n",
       "      <td>2021</td>\n",
       "      <td>2144.166570</td>\n",
       "      <td>NaN</td>\n",
       "    </tr>\n",
       "    <tr>\n",
       "      <th>3</th>\n",
       "      <td>Afghanistan</td>\n",
       "      <td>2020</td>\n",
       "      <td>2769.685745</td>\n",
       "      <td>NaN</td>\n",
       "    </tr>\n",
       "    <tr>\n",
       "      <th>4</th>\n",
       "      <td>Afghanistan</td>\n",
       "      <td>2019</td>\n",
       "      <td>2927.245144</td>\n",
       "      <td>NaN</td>\n",
       "    </tr>\n",
       "  </tbody>\n",
       "</table>\n",
       "</div>"
      ],
      "text/plain": [
       "  Country or Area  Year        Value  Value Footnotes\n",
       "0     Afghanistan  2023  1992.424394              NaN\n",
       "1     Afghanistan  2022  1981.710168              NaN\n",
       "2     Afghanistan  2021  2144.166570              NaN\n",
       "3     Afghanistan  2020  2769.685745              NaN\n",
       "4     Afghanistan  2019  2927.245144              NaN"
      ]
     },
     "execution_count": 89,
     "metadata": {},
     "output_type": "execute_result"
    }
   ],
   "source": [
    "import pandas as pd\n",
    "\n",
    "gdp_df = pd.read_csv('gdp_percapita.csv')\n",
    "gdp_df.head()\n"
   ]
  },
  {
   "cell_type": "code",
   "execution_count": 90,
   "id": "86dbd5ba-2c42-41bc-ac09-1b2c4504590f",
   "metadata": {},
   "outputs": [
    {
     "name": "stdout",
     "output_type": "stream",
     "text": [
      "['Country or Area', 'Year', 'Value', 'Value Footnotes']\n"
     ]
    }
   ],
   "source": [
    "import pandas as pd\n",
    "\n",
    "gdp_df = pd.read_csv('gdp_percapita.csv')  # ← replace with your actual filename\n",
    "print(list(gdp_df.columns))\n",
    "\n"
   ]
  },
  {
   "cell_type": "code",
   "execution_count": 91,
   "id": "2ee2fe46-c2da-413a-926a-a283d50e1dd0",
   "metadata": {},
   "outputs": [],
   "source": [
    "# Clean up column names\n",
    "gdp_df.columns = gdp_df.columns.str.strip()\n",
    "\n",
    "# Drop the \"Value Footnotes\" column\n",
    "gdp_df = gdp_df.drop(columns=['Value Footnotes'])\n",
    "\n",
    "# Rename the remaining columns\n",
    "gdp_df = gdp_df.rename(columns={\n",
    "    'Country or Area': 'Country',\n",
    "    'Value': 'GDP_Per_Capita'\n",
    "})\n"
   ]
  },
  {
   "cell_type": "code",
   "execution_count": 92,
   "id": "5158789b-ba37-489e-84fd-70452b19f988",
   "metadata": {},
   "outputs": [
    {
     "name": "stdout",
     "output_type": "stream",
     "text": [
      "       Country  Year  GDP_Per_Capita\n",
      "0  Afghanistan  2023     1992.424394\n",
      "1  Afghanistan  2022     1981.710168\n",
      "2  Afghanistan  2021     2144.166570\n",
      "3  Afghanistan  2020     2769.685745\n",
      "4  Afghanistan  2019     2927.245144\n",
      "['Country', 'Year', 'GDP_Per_Capita']\n"
     ]
    }
   ],
   "source": [
    "print(gdp_df.head())\n",
    "print(list(gdp_df.columns))\n"
   ]
  },
  {
   "cell_type": "code",
   "execution_count": 93,
   "id": "e3238444-ccac-41f2-aa77-8e547da7e07d",
   "metadata": {},
   "outputs": [],
   "source": [
    " #7. How many countries have data for all years? Which countries are missing many years of data? Look at the number of observations per year. What do you notice? "
   ]
  },
  {
   "cell_type": "code",
   "execution_count": 94,
   "id": "4f9f4808-f41a-41b1-acb6-469af662d31c",
   "metadata": {},
   "outputs": [],
   "source": [
    "country_years = gdp_df.groupby('Country')['Year'].nunique()\n"
   ]
  },
  {
   "cell_type": "code",
   "execution_count": 95,
   "id": "ec7ee4c1-5f92-4bdb-b06d-63d0bf10adf3",
   "metadata": {},
   "outputs": [
    {
     "name": "stdout",
     "output_type": "stream",
     "text": [
      "countries_all_years: 228\n",
      "Country\n",
      "Africa Eastern and Southern    34\n",
      "Africa Western and Central     34\n",
      "Albania                        34\n",
      "Algeria                        34\n",
      "Andorra                        34\n",
      "                               ..\n",
      "Vanuatu                        34\n",
      "Viet Nam                       34\n",
      "World                          34\n",
      "Zambia                         34\n",
      "Zimbabwe                       34\n",
      "Name: Year, Length: 228, dtype: int64\n"
     ]
    }
   ],
   "source": [
    "countries_all_years = country_years[country_years == 34]\n",
    "print(f\"countries_all_years: {len(countries_all_years)}\")\n",
    "print(countries_all_years)\n"
   ]
  },
  {
   "cell_type": "code",
   "execution_count": 96,
   "id": "eb49562b-79aa-4bbe-bb33-d19cbf44f248",
   "metadata": {},
   "outputs": [
    {
     "name": "stdout",
     "output_type": "stream",
     "text": [
      "countries_all_years: 19\n",
      "These countries are missing some years of data:\n",
      "\n",
      "Country\n",
      "Djibouti                     11\n",
      "Turks and Caicos Islands     13\n",
      "Sint Maarten (Dutch part)    15\n",
      "Faroe Islands                16\n",
      "Kosovo                       16\n",
      "Cayman Islands               18\n",
      "Virgin Islands               21\n",
      "Afghanistan                  24\n",
      "CuraÃ§ao                     24\n",
      "San Marino                   26\n",
      "Montenegro                   27\n",
      "Serbia                       29\n",
      "West Bank and Gaza           30\n",
      "Greenland                    32\n",
      "Somalia                      33\n",
      "Syrian Arab Republic         33\n",
      "Tonga                        33\n",
      "Bhutan                       33\n",
      "Lebanon                      33\n",
      "Name: Year, dtype: int64\n"
     ]
    }
   ],
   "source": [
    "\n",
    "countries_missing_years = country_years[country_years < 34]\n",
    "print(f\"countries_all_years: {len(countries_missing_years)}\")\n",
    "print(\"These countries are missing some years of data:\\n\")\n",
    "print(countries_missing_years.sort_values())\n"
   ]
  },
  {
   "cell_type": "code",
   "execution_count": null,
   "id": "902400ab-aa72-4a39-bc03-9692a04e12fb",
   "metadata": {},
   "outputs": [],
   "source": []
  },
  {
   "cell_type": "code",
   "execution_count": 97,
   "id": "3de4f458-874d-4e8d-ae57-0882144f24f1",
   "metadata": {},
   "outputs": [],
   "source": [
    "#8. In this question, you're going to create some plots to show the distribution of GDP per capita for the year 2020. Go to the Python Graph Gallery (https://www.python-graph-gallery.com/) and look at the different types of plots under the Distribution section. Create a histogram, a density plot, a boxplot, and a violin plot. What do you notice when you look at these plots? How do the plots compare and what information can you get out of one type that you can't necessarily get out of the others?\n",
    "\n",
    "\n"
   ]
  },
  {
   "cell_type": "code",
   "execution_count": 98,
   "id": "efa0dd9a-85d5-4e9a-bc78-8327ceea2417",
   "metadata": {},
   "outputs": [],
   "source": [
    "gdp_2020 = gdp_df[gdp_df['Year'] == 2020]\n"
   ]
  },
  {
   "cell_type": "code",
   "execution_count": 99,
   "id": "433ee8e6-5a28-4b2f-90c1-411587695862",
   "metadata": {},
   "outputs": [],
   "source": [
    "sns.set(style=\"whitegrid\")\n"
   ]
  },
  {
   "cell_type": "code",
   "execution_count": 100,
   "id": "d3cd081e-4236-44ff-9abc-81fc01e9370b",
   "metadata": {},
   "outputs": [
    {
     "data": {
      "image/png": "[encoded data removed]",
      "text/plain": [
       "<Figure size 800x400 with 1 Axes>"
      ]
     },
     "metadata": {},
     "output_type": "display_data"
    }
   ],
   "source": [
    "plt.figure(figsize=(8, 4))\n",
    "sns.histplot(gdp_2020['GDP_Per_Capita'], bins=30, color='skyblue')\n",
    "plt.title(\"Histogram of GDP Per Capita (2020)\")\n",
    "plt.xlabel(\"GDP Per Capita\")\n",
    "plt.ylabel(\"Number of Countries\")\n",
    "plt.show()\n"
   ]
  },
  {
   "cell_type": "code",
   "execution_count": 101,
   "id": "226d39ad-3d3c-48eb-bdde-19899de9c899",
   "metadata": {},
   "outputs": [
    {
     "data": {
      "image/png": "[encoded data removed]",
      "text/plain": [
       "<Figure size 800x400 with 1 Axes>"
      ]
     },
     "metadata": {},
     "output_type": "display_data"
    }
   ],
   "source": [
    "plt.figure(figsize=(8, 4))\n",
    "sns.kdeplot(gdp_2020['GDP_Per_Capita'], fill=True, color='green')\n",
    "plt.title(\"Density Plot of GDP Per Capita (2020)\")\n",
    "plt.xlabel(\"GDP Per Capita\")\n",
    "plt.show()\n"
   ]
  },
  {
   "cell_type": "code",
   "execution_count": 102,
   "id": "52f3e41c-3884-49ee-951b-964d9ba2481f",
   "metadata": {},
   "outputs": [
    {
     "data": {
      "image/png": "[encoded data removed]",
      "text/plain": [
       "<Figure size 800x200 with 1 Axes>"
      ]
     },
     "metadata": {},
     "output_type": "display_data"
    }
   ],
   "source": [
    "plt.figure(figsize=(8, 2))\n",
    "sns.boxplot(x=gdp_2020['GDP_Per_Capita'], color='orange')\n",
    "plt.title(\"Boxplot of GDP Per Capita (2020)\")\n",
    "plt.xlabel(\"GDP Per Capita\")\n",
    "plt.show()\n"
   ]
  },
  {
   "cell_type": "code",
   "execution_count": 103,
   "id": "542bb3eb-89ee-4048-b8d8-73c87ea837f5",
   "metadata": {},
   "outputs": [
    {
     "data": {
      "image/png": "[encoded data removed]",
      "text/plain": [
       "<Figure size 800x400 with 1 Axes>"
      ]
     },
     "metadata": {},
     "output_type": "display_data"
    }
   ],
   "source": [
    "plt.figure(figsize=(8, 4))\n",
    "sns.violinplot(x=gdp_2020['GDP_Per_Capita'], color='purple')\n",
    "plt.title(\"Violin Plot of GDP Per Capita (2020)\")\n",
    "plt.xlabel(\"GDP Per Capita\")\n",
    "plt.show()\n"
   ]
  },
  {
   "cell_type": "code",
   "execution_count": null,
   "id": "53d67f12-7fd8-4cf3-8268-1c473d28c14a",
   "metadata": {},
   "outputs": [],
   "source": []
  },
  {
   "cell_type": "code",
   "execution_count": 104,
   "id": "102ecb85-59e0-4ce5-b051-63ce183c8b4e",
   "metadata": {},
   "outputs": [],
   "source": [
    "#9. What was the median GDP per capita value in 2020?"
   ]
  },
  {
   "cell_type": "code",
   "execution_count": 105,
   "id": "48c9957d-b596-41cf-8222-6b51ffc4a6fd",
   "metadata": {},
   "outputs": [],
   "source": [
    "gdp_2020 = gdp_df[gdp_df['Year'] == 2020]\n"
   ]
  },
  {
   "cell_type": "code",
   "execution_count": 106,
   "id": "7bd36237-e321-4df2-9d5c-7933b565cb2f",
   "metadata": {},
   "outputs": [
    {
     "name": "stdout",
     "output_type": "stream",
     "text": [
      "The median GDP per capita in 2020 was: 15309.24\n"
     ]
    }
   ],
   "source": [
    "median_gdp = gdp_2020['GDP_Per_Capita'].median()\n",
    "print(f\"The median GDP per capita in 2020 was: {median_gdp:.2f}\")\n"
   ]
  },
  {
   "cell_type": "code",
   "execution_count": null,
   "id": "cc8838f0-dd82-4351-8f2f-5ffa89a3b4eb",
   "metadata": {},
   "outputs": [],
   "source": []
  },
  {
   "cell_type": "code",
   "execution_count": 107,
   "id": "09c7d009-7ea3-497c-9825-5384a14b128c",
   "metadata": {},
   "outputs": [],
   "source": [
    "#10. For this question, you're going to create some visualizations to compare GDP per capita values for the years 1990, 2000, 2010, and 2020. Start by subsetting your data to just these 4 years into a new DataFrame named gdp_decades. Using this, create the following 4 plots:\n",
    "#* A boxplot\n",
    "\t#* A barplot (check out the Barplot with Seaborn section: https://www.python-graph-gallery.com/barplot/#Seaborn)\n",
    "\t#* A scatterplot\n",
    "\t#* A scatterplot with a trend line overlaid (see this regplot example: https://www.python-graph-gallery.com/42-custom-linear-regression-fit-seaborn)  \n",
    "#Comment on what you observe has happened to GDP values over time and the relative strengths and weaknesses of each type of plot.\n",
    "\n"
   ]
  },
  {
   "cell_type": "code",
   "execution_count": 108,
   "id": "ad4a2f40-4d41-4adf-9a42-58bee9c478bd",
   "metadata": {},
   "outputs": [
    {
     "data": {
      "text/html": [
       "<div>\n",
       "<style scoped>\n",
       "    .dataframe tbody tr th:only-of-type {\n",
       "        vertical-align: middle;\n",
       "    }\n",
       "\n",
       "    .dataframe tbody tr th {\n",
       "        vertical-align: top;\n",
       "    }\n",
       "\n",
       "    .dataframe thead th {\n",
       "        text-align: right;\n",
       "    }\n",
       "</style>\n",
       "<table border=\"1\" class=\"dataframe\">\n",
       "  <thead>\n",
       "    <tr style=\"text-align: right;\">\n",
       "      <th></th>\n",
       "      <th>Country</th>\n",
       "      <th>Year</th>\n",
       "      <th>GDP_Per_Capita</th>\n",
       "    </tr>\n",
       "  </thead>\n",
       "  <tbody>\n",
       "    <tr>\n",
       "      <th>3</th>\n",
       "      <td>Afghanistan</td>\n",
       "      <td>2020</td>\n",
       "      <td>2769.685745</td>\n",
       "    </tr>\n",
       "    <tr>\n",
       "      <th>13</th>\n",
       "      <td>Afghanistan</td>\n",
       "      <td>2010</td>\n",
       "      <td>2848.586061</td>\n",
       "    </tr>\n",
       "    <tr>\n",
       "      <th>23</th>\n",
       "      <td>Afghanistan</td>\n",
       "      <td>2000</td>\n",
       "      <td>1617.826475</td>\n",
       "    </tr>\n",
       "    <tr>\n",
       "      <th>27</th>\n",
       "      <td>Africa Eastern and Southern</td>\n",
       "      <td>2020</td>\n",
       "      <td>3861.111238</td>\n",
       "    </tr>\n",
       "    <tr>\n",
       "      <th>37</th>\n",
       "      <td>Africa Eastern and Southern</td>\n",
       "      <td>2010</td>\n",
       "      <td>3863.836012</td>\n",
       "    </tr>\n",
       "  </tbody>\n",
       "</table>\n",
       "</div>"
      ],
      "text/plain": [
       "                        Country  Year  GDP_Per_Capita\n",
       "3                   Afghanistan  2020     2769.685745\n",
       "13                  Afghanistan  2010     2848.586061\n",
       "23                  Afghanistan  2000     1617.826475\n",
       "27  Africa Eastern and Southern  2020     3861.111238\n",
       "37  Africa Eastern and Southern  2010     3863.836012"
      ]
     },
     "execution_count": 108,
     "metadata": {},
     "output_type": "execute_result"
    }
   ],
   "source": [
    "gdp_decades = gdp_df[gdp_df['Year'].isin([1990, 2000, 2010, 2020])]\n",
    "gdp_decades.head()"
   ]
  },
  {
   "cell_type": "code",
   "execution_count": 109,
   "id": "b5e4bc27-3446-47ed-97c6-3e01a12a5d32",
   "metadata": {},
   "outputs": [
    {
     "data": {
      "image/png": "[encoded data removed]",
      "text/plain": [
       "<Figure size 800x500 with 1 Axes>"
      ]
     },
     "metadata": {},
     "output_type": "display_data"
    }
   ],
   "source": [
    "plt.figure(figsize=(8, 5))\n",
    "sns.boxplot(x='Year', y='GDP_Per_Capita', data=gdp_decades)\n",
    "plt.title('Boxplot of GDP Per Capita (1990, 2000, 2010, 2020)')\n",
    "plt.show()\n"
   ]
  },
  {
   "cell_type": "code",
   "execution_count": 110,
   "id": "e16ca95c-bf99-4385-9e23-92b94d538ac0",
   "metadata": {},
   "outputs": [
    {
     "name": "stderr",
     "output_type": "stream",
     "text": [
      "C:\\Users\\jingl\\AppData\\Local\\Temp\\ipykernel_9880\\2189126717.py:2: FutureWarning: \n",
      "\n",
      "The `ci` parameter is deprecated. Use `errorbar='sd'` for the same effect.\n",
      "\n",
      "  sns.barplot(x='Year', y='GDP_Per_Capita', data=gdp_decades, estimator='mean', ci='sd')\n"
     ]
    },
    {
     "data": {
      "image/png": "[encoded data removed]",
      "text/plain": [
       "<Figure size 800x500 with 1 Axes>"
      ]
     },
     "metadata": {},
     "output_type": "display_data"
    }
   ],
   "source": [
    "plt.figure(figsize=(8, 5))\n",
    "sns.barplot(x='Year', y='GDP_Per_Capita', data=gdp_decades, estimator='mean', ci='sd')\n",
    "plt.title('Barplot of Average GDP Per Capita by Year')\n",
    "plt.show()\n"
   ]
  },
  {
   "cell_type": "code",
   "execution_count": 111,
   "id": "0d3067e1-eba6-43d9-863b-8a1fc61584e1",
   "metadata": {},
   "outputs": [
    {
     "data": {
      "image/png": "[encoded data removed]",
      "text/plain": [
       "<Figure size 800x500 with 1 Axes>"
      ]
     },
     "metadata": {},
     "output_type": "display_data"
    }
   ],
   "source": [
    "plt.figure(figsize=(8, 5))\n",
    "sns.scatterplot(x='Year', y='GDP_Per_Capita', data=gdp_decades)\n",
    "plt.title('Scatterplot of GDP Per Capita by Year')\n",
    "plt.show()\n"
   ]
  },
  {
   "cell_type": "code",
   "execution_count": 112,
   "id": "c9efab1d-790a-42f3-854a-c109395f16c7",
   "metadata": {},
   "outputs": [
    {
     "data": {
      "image/png": "[encoded data removed]",
      "text/plain": [
       "<Figure size 800x500 with 1 Axes>"
      ]
     },
     "metadata": {},
     "output_type": "display_data"
    }
   ],
   "source": [
    "plt.figure(figsize=(8, 5))\n",
    "sns.regplot(x='Year', y='GDP_Per_Capita', data=gdp_decades, scatter=True, ci=None)\n",
    "plt.title('GDP Per Capita with Trend Line (1990–2020)')\n",
    "plt.show()\n"
   ]
  },
  {
   "cell_type": "code",
   "execution_count": null,
   "id": "68ae4a23-9576-449f-bd5b-0cedc14ee15f",
   "metadata": {},
   "outputs": [],
   "source": []
  },
  {
   "cell_type": "code",
   "execution_count": null,
   "id": "05b2124f-555e-4c4d-82df-490fc3107023",
   "metadata": {},
   "outputs": [],
   "source": []
  },
  {
   "cell_type": "code",
   "execution_count": 113,
   "id": "752e9f05-ab6a-468a-adf2-1b61827074ee",
   "metadata": {},
   "outputs": [],
   "source": [
    "#11. Which country was the first to have a GDP per capita greater than $100,000?"
   ]
  },
  {
   "cell_type": "code",
   "execution_count": 114,
   "id": "70ee7b53-a1d8-43f5-9f15-01e7e71d9a58",
   "metadata": {},
   "outputs": [],
   "source": [
    "rich_countries = gdp_df[gdp_df['GDP_Per_Capita'] > 100000]\n"
   ]
  },
  {
   "cell_type": "code",
   "execution_count": 115,
   "id": "52c4e1bd-a3e5-4712-a49a-59af52a480d4",
   "metadata": {},
   "outputs": [],
   "source": [
    "rich_countries_sorted = rich_countries.sort_values(by='Year')\n"
   ]
  },
  {
   "cell_type": "code",
   "execution_count": 116,
   "id": "0420becb-dff4-4216-8277-95c325652670",
   "metadata": {},
   "outputs": [
    {
     "name": "stdout",
     "output_type": "stream",
     "text": [
      "The first country to have a GDP per capita > $100,000:\n",
      "Country           United Arab Emirates\n",
      "Year                              1990\n",
      "GDP_Per_Capita           108057.042464\n",
      "Name: 7827, dtype: object\n"
     ]
    }
   ],
   "source": [
    "first_rich_country = rich_countries_sorted.iloc[0]\n",
    "print(\"The first country to have a GDP per capita > $100,000:\")\n",
    "print(first_rich_country)\n"
   ]
  },
  {
   "cell_type": "code",
   "execution_count": null,
   "id": "3c28aa37-8965-48b0-ab81-072126abd707",
   "metadata": {},
   "outputs": [],
   "source": []
  },
  {
   "cell_type": "code",
   "execution_count": 117,
   "id": "f329c1c7-cfda-42b4-ad03-484ffc45491d",
   "metadata": {},
   "outputs": [],
   "source": [
    "#12. Which country had the highest GDP per capita in 2020? Create a plot showing how this country's GDP per capita has changed over the timespan of the dataset."
   ]
  },
  {
   "cell_type": "code",
   "execution_count": 118,
   "id": "7ee793c7-f7fc-4ba7-ae7c-abeb05fd01cd",
   "metadata": {},
   "outputs": [],
   "source": [
    "gdp_2020 = gdp_df[gdp_df['Year'] == 2020]\n"
   ]
  },
  {
   "cell_type": "code",
   "execution_count": 119,
   "id": "56062098-a304-4998-96fc-b4bf2be98f7b",
   "metadata": {},
   "outputs": [
    {
     "name": "stdout",
     "output_type": "stream",
     "text": [
      " The country with the highest GDP per capita in 2020 was: Luxembourg\n"
     ]
    }
   ],
   "source": [
    "top_country_row = gdp_2020[gdp_2020['GDP_Per_Capita'] == gdp_2020['GDP_Per_Capita'].max()]\n",
    "top_country = top_country_row.iloc[0]['Country']\n",
    "\n",
    "print(f\" The country with the highest GDP per capita in 2020 was: {top_country}\")\n"
   ]
  },
  {
   "cell_type": "code",
   "execution_count": 120,
   "id": "c09d3627-439b-471c-86c8-914bbf947c16",
   "metadata": {},
   "outputs": [],
   "source": [
    "top_country_data = gdp_df[gdp_df['Country'] == top_country]\n"
   ]
  },
  {
   "cell_type": "code",
   "execution_count": 121,
   "id": "615e03fc-0030-4d66-8b26-14079275c2ac",
   "metadata": {},
   "outputs": [
    {
     "data": {
      "image/png": "[encoded data removed]",
      "text/plain": [
       "<Figure size 1000x500 with 1 Axes>"
      ]
     },
     "metadata": {},
     "output_type": "display_data"
    }
   ],
   "source": [
    "plt.figure(figsize=(10, 5))\n",
    "plt.plot(top_country_data['Year'], top_country_data['GDP_Per_Capita'], marker='o')\n",
    "plt.title(f\"GDP Per Capita Over Time for {top_country}\")\n",
    "plt.xlabel(\"Year\")\n",
    "plt.ylabel(\"GDP Per Capita\")\n",
    "plt.grid(True)\n",
    "plt.tight_layout()\n",
    "plt.show()\n"
   ]
  },
  {
   "cell_type": "code",
   "execution_count": null,
   "id": "09558949-206a-4b5f-bb4b-554c4198ce10",
   "metadata": {},
   "outputs": [],
   "source": []
  },
  {
   "cell_type": "code",
   "execution_count": null,
   "id": "1de8eb88-6767-4657-b996-95f807e757d5",
   "metadata": {},
   "outputs": [],
   "source": []
  },
  {
   "cell_type": "code",
   "execution_count": null,
   "id": "4e468e43-8146-44c0-b2ad-dd6ea6bd18c8",
   "metadata": {},
   "outputs": [],
   "source": []
  },
  {
   "cell_type": "code",
   "execution_count": 122,
   "id": "6d35ef2a-62f2-4e01-8663-d8a0423d51af",
   "metadata": {},
   "outputs": [],
   "source": [
    "#13. Which country had the lowest GDP per capita in 2020? Create a plot showing how this country's GDP per capita has changed over the timespan of the dataset. **Bonus question:** Is it true in general that coutries had a higher GDP per capita in 2020 than in 1990? Which countries had lower GDP per capita in 2020 than in 1990?\n"
   ]
  },
  {
   "cell_type": "code",
   "execution_count": 123,
   "id": "e42b29c4-336b-481e-9a41-73166d42731e",
   "metadata": {},
   "outputs": [],
   "source": [
    "gdp_2020 = gdp_df[gdp_df['Year'] == 2020]\n"
   ]
  },
  {
   "cell_type": "code",
   "execution_count": 124,
   "id": "c6dd2e2d-8d48-4f4e-8d3a-5d9c202d6969",
   "metadata": {},
   "outputs": [
    {
     "name": "stdout",
     "output_type": "stream",
     "text": [
      "The country with the lowest GDP per capita in 2020 was: Burundi\n"
     ]
    }
   ],
   "source": [
    "lowest_row = gdp_2020[gdp_2020['GDP_Per_Capita'] == gdp_2020['GDP_Per_Capita'].min()]\n",
    "lowest_country = lowest_row.iloc[0]['Country']\n",
    "\n",
    "print(f\"The country with the lowest GDP per capita in 2020 was: {lowest_country}\")\n"
   ]
  },
  {
   "cell_type": "code",
   "execution_count": 125,
   "id": "ec46ce94-997e-4259-a069-ed5b1eea0834",
   "metadata": {},
   "outputs": [
    {
     "data": {
      "image/png": "[encoded data removed]",
      "text/plain": [
       "<Figure size 1000x500 with 1 Axes>"
      ]
     },
     "metadata": {},
     "output_type": "display_data"
    }
   ],
   "source": [
    "lowest_country_data = gdp_df[gdp_df['Country'] == lowest_country]\n",
    "\n",
    "plt.figure(figsize=(10, 5))\n",
    "plt.plot(lowest_country_data['Year'], lowest_country_data['GDP_Per_Capita'], marker='o', color='red')\n",
    "plt.title(f\"GDP Per Capita Over Time for {lowest_country}\")\n",
    "plt.xlabel(\"Year\")\n",
    "plt.ylabel(\"GDP Per Capita\")\n",
    "plt.grid(True)\n",
    "plt.tight_layout()\n",
    "plt.show()\n"
   ]
  },
  {
   "cell_type": "code",
   "execution_count": 126,
   "id": "efe4f882-92b5-44b0-bcfa-163b5aa9000b",
   "metadata": {},
   "outputs": [
    {
     "ename": "SyntaxError",
     "evalue": "invalid syntax (765033944.py, line 1)",
     "output_type": "error",
     "traceback": [
      "\u001b[1;36m  Cell \u001b[1;32mIn[126], line 1\u001b[1;36m\u001b[0m\n\u001b[1;33m    Bonus Question:\u001b[0m\n\u001b[1;37m          ^\u001b[0m\n\u001b[1;31mSyntaxError\u001b[0m\u001b[1;31m:\u001b[0m invalid syntax\n"
     ]
    }
   ],
   "source": [
    "Bonus Question:\n",
    "Is it true that most countries had higher GDP per capita in 2020 than in 1990? Which countries had lower GDP per capita in 2020 than in 1990?"
   ]
  },
  {
   "cell_type": "code",
   "execution_count": null,
   "id": "86e21912-5eae-4431-bea7-d1350e89ec2d",
   "metadata": {},
   "outputs": [],
   "source": [
    "gdp_1990 = gdp_df[gdp_df['Year'] == 1990][['Country', 'GDP_Per_Capita']]\n",
    "gdp_2020 = gdp_df[gdp_df['Year'] == 2020][['Country', 'GDP_Per_Capita']]\n"
   ]
  },
  {
   "cell_type": "code",
   "execution_count": null,
   "id": "833349ca-e175-41ab-b380-7a31384d0ce4",
   "metadata": {},
   "outputs": [],
   "source": [
    "gdp_compare = pd.merge(gdp_1990, gdp_2020, on='Country', suffixes=('_1990', '_2020'))\n"
   ]
  },
  {
   "cell_type": "code",
   "execution_count": null,
   "id": "583193d8-f8db-42f0-933b-ab317eaeb064",
   "metadata": {},
   "outputs": [],
   "source": [
    "gdp_declined = gdp_compare[gdp_compare['GDP_Per_Capita_2020'] < gdp_compare['GDP_Per_Capita_1990']]\n",
    "print(\"📉 Countries with *lower* GDP per capita in 2020 than in 1990:\\n\")\n",
    "print(gdp_declined[['Country', 'GDP_Per_Capita_1990', 'GDP_Per_Capita_2020']])\n"
   ]
  },
  {
   "cell_type": "code",
   "execution_count": null,
   "id": "b5e1a359-8f64-4bea-82a3-9e82d09e4634",
   "metadata": {},
   "outputs": [],
   "source": [
    "total_countries = gdp_compare.shape[0]\n",
    "declined_count = gdp_declined.shape[0]\n",
    "improved_count = total_countries - declined_count\n",
    "\n",
    "print(f\"{improved_count} countries had higher GDP per capita in 2020 than in 1990.\")\n",
    "print(f\"{declined_count} countries had lower GDP per capita in 2020 than in 1990.\")\n"
   ]
  },
  {
   "cell_type": "code",
   "execution_count": null,
   "id": "93cf8229-7111-4d88-9138-7f902ef8465c",
   "metadata": {},
   "outputs": [],
   "source": []
  },
  {
   "cell_type": "code",
   "execution_count": null,
   "id": "0f6beac9-1800-4929-8613-84a1de7dd900",
   "metadata": {},
   "outputs": [],
   "source": [
    "#14. Read in the internet use dataset into a DataFrame named `internet_df`. You will likely get errors when doing this. Check the arguments for the read_csv function to find ones that can help correct the errors (https://pandas.pydata.org/docs/reference/api/pandas.read_csv.html) Once you are able to read it in, take per a look at the top and bottom few rows to make sure that it has been read in correctly. Also, check the datatypes of the columns.\n"
   ]
  },
  {
   "cell_type": "code",
   "execution_count": null,
   "id": "8f8df580-3654-4696-be56-cccbb371cdc5",
   "metadata": {},
   "outputs": [],
   "source": [
    "internet_df = pd.read_csv(\n",
    "    'internet_use.csv',      \n",
    "    encoding='utf-8',        \n",
    "    sep=',',               \n",
    "    on_bad_lines='skip',     \n",
    "    engine='python'          \n",
    ")\n"
   ]
  },
  {
   "cell_type": "code",
   "execution_count": null,
   "id": "4fea69eb-d5cb-4d68-8d00-74c5b553a1f9",
   "metadata": {},
   "outputs": [],
   "source": [
    "print(internet_df.head()) "
   ]
  },
  {
   "cell_type": "code",
   "execution_count": null,
   "id": "a52f07b5-79d8-42d5-8f08-83b4b1f35030",
   "metadata": {},
   "outputs": [],
   "source": [
    "print(internet_df.tail()) "
   ]
  },
  {
   "cell_type": "code",
   "execution_count": null,
   "id": "02c63a3b-2129-4b5b-9144-990fb715ed6e",
   "metadata": {},
   "outputs": [],
   "source": [
    "print(internet_df.columns) "
   ]
  },
  {
   "cell_type": "code",
   "execution_count": null,
   "id": "deca7ba6-d847-4e27-a3ff-60bf5aba36fb",
   "metadata": {},
   "outputs": [],
   "source": [
    "print(internet_df.dtypes)"
   ]
  },
  {
   "cell_type": "code",
   "execution_count": null,
   "id": "a5057000-288c-468b-bcd2-422c94fa826b",
   "metadata": {},
   "outputs": [],
   "source": []
  },
  {
   "cell_type": "code",
   "execution_count": null,
   "id": "89d08ad3-40c2-40a2-acbe-8736878d4586",
   "metadata": {},
   "outputs": [],
   "source": []
  },
  {
   "cell_type": "code",
   "execution_count": null,
   "id": "375c3b40-2643-45a9-b825-367e1d12b751",
   "metadata": {},
   "outputs": [],
   "source": [
    "#15. Drop the `Value Footnotes` column and rename the remaining three to 'Country', 'Year', and 'Internet_Users_Pct'.\n"
   ]
  },
  {
   "cell_type": "code",
   "execution_count": null,
   "id": "d30f14e1-ebab-4b4b-b6bf-bba309b6c1f9",
   "metadata": {},
   "outputs": [],
   "source": [
    "internet_df.columns = internet_df.columns.str.strip()"
   ]
  },
  {
   "cell_type": "code",
   "execution_count": null,
   "id": "e9eb454f-25a1-46c8-8797-43197abc50c8",
   "metadata": {},
   "outputs": [],
   "source": [
    "internet_df = internet_df.drop(columns=['Value Footnotes'])"
   ]
  },
  {
   "cell_type": "code",
   "execution_count": null,
   "id": "59fc168f-a63a-40bb-853e-8df64604a05a",
   "metadata": {},
   "outputs": [],
   "source": [
    "internet_df = internet_df.rename(columns={\n",
    "    'Country or Area': 'Country',\n",
    "    'Value': 'Internet_Users_Pct'\n",
    "})"
   ]
  },
  {
   "cell_type": "code",
   "execution_count": null,
   "id": "1ab369cc-638d-4ca2-9d39-d8bc052b2913",
   "metadata": {},
   "outputs": [],
   "source": [
    "print(internet_df.head())"
   ]
  },
  {
   "cell_type": "code",
   "execution_count": null,
   "id": "5c931c5d-b0ec-4274-a318-3e57ecb3fd0b",
   "metadata": {},
   "outputs": [],
   "source": [
    "print(internet_df.columns)"
   ]
  },
  {
   "cell_type": "code",
   "execution_count": null,
   "id": "6114e3de-ae01-4448-9cb2-505dd2d44227",
   "metadata": {},
   "outputs": [],
   "source": []
  },
  {
   "cell_type": "code",
   "execution_count": null,
   "id": "462cb90b-8fda-44f5-a2c5-c9b8ce6051f6",
   "metadata": {},
   "outputs": [],
   "source": [
    "#16. Look at the number of observations in this dataset per year. What do you notice?"
   ]
  },
  {
   "cell_type": "code",
   "execution_count": null,
   "id": "f3b03e64-6db2-4112-b608-9492dcec90f2",
   "metadata": {},
   "outputs": [],
   "source": [
    "year_counts = internet_df['Year'].value_counts().sort_index()\n",
    "print(year_counts)\n"
   ]
  },
  {
   "cell_type": "code",
   "execution_count": null,
   "id": "506a8d87-1605-4f90-992f-0d22bc7e8521",
   "metadata": {},
   "outputs": [],
   "source": [
    "print(internet_df.columns)\n"
   ]
  },
  {
   "cell_type": "code",
   "execution_count": null,
   "id": "a2d65439-b30e-43e6-a8ae-78a5df2b3a81",
   "metadata": {},
   "outputs": [],
   "source": [
    "print(internet_df.dtypes)"
   ]
  },
  {
   "cell_type": "code",
   "execution_count": null,
   "id": "19063d2b-32e3-4ba3-9e46-4aba7b1ad2cf",
   "metadata": {},
   "outputs": [],
   "source": [
    "internet_df['Year'] = pd.to_numeric(internet_df['Year'], errors='coerce')\n"
   ]
  },
  {
   "cell_type": "code",
   "execution_count": null,
   "id": "7af62ce1-b68d-4200-9cc2-d773b7ddfcd8",
   "metadata": {},
   "outputs": [],
   "source": [
    "internet_df = internet_df.dropna(subset=['Year'])\n"
   ]
  },
  {
   "cell_type": "code",
   "execution_count": null,
   "id": "345df134-7118-46bd-bb56-ceb255e55ea9",
   "metadata": {},
   "outputs": [],
   "source": [
    "internet_df = internet_df[internet_df['Year'] >= 1980]\n"
   ]
  },
  {
   "cell_type": "code",
   "execution_count": null,
   "id": "48241b20-2b12-49e3-8be1-40a4067c5d0c",
   "metadata": {},
   "outputs": [],
   "source": [
    "year_counts = internet_df['Year'].value_counts().sort_index()\n",
    "\n",
    "plt.figure(figsize=(12, 6))\n",
    "year_counts.plot(kind='bar', color='skyblue')\n",
    "\n",
    "plt.title(\"Number of Internet Usage Observations per Year\")\n",
    "plt.xlabel(\"Year\")\n",
    "plt.ylabel(\"Number of Countries\")\n",
    "plt.xticks(rotation=45)\n",
    "plt.grid(axis='y')\n",
    "plt.tight_layout()\n",
    "plt.show()\n"
   ]
  },
  {
   "cell_type": "code",
   "execution_count": null,
   "id": "a682f6da-bd8c-4edd-b576-a3b17c95678f",
   "metadata": {},
   "outputs": [],
   "source": []
  },
  {
   "cell_type": "code",
   "execution_count": null,
   "id": "fbb26477-11c9-46d7-a13c-541ce7c37733",
   "metadata": {},
   "outputs": [],
   "source": []
  },
  {
   "cell_type": "code",
   "execution_count": null,
   "id": "f5f29f6c-4b31-4d11-bdc6-368f6c13d64b",
   "metadata": {},
   "outputs": [],
   "source": [
    "#17. What is the first year to have a non-zero internet users percentage value?"
   ]
  },
  {
   "cell_type": "code",
   "execution_count": null,
   "id": "0b4a5c5b-85ea-44ef-a6b1-ff51b1abdb38",
   "metadata": {},
   "outputs": [],
   "source": [
    "non_zero_internet = internet_df[internet_df['Internet_Users_Pct'] > 0]\n"
   ]
  },
  {
   "cell_type": "code",
   "execution_count": null,
   "id": "2f413da2-8769-4358-b085-b098ea33fb54",
   "metadata": {},
   "outputs": [],
   "source": [
    "first_year = non_zero_internet['Year'].min()\n",
    "print(f\"The first year with non-zero internet users percentage is: {int(first_year)}\")\n"
   ]
  },
  {
   "cell_type": "code",
   "execution_count": null,
   "id": "91b4a45a-1e70-49ca-9d18-bbb65f6b0c8a",
   "metadata": {},
   "outputs": [],
   "source": []
  },
  {
   "cell_type": "code",
   "execution_count": null,
   "id": "6403797b-0624-4ef8-9f7c-5b99e597720d",
   "metadata": {},
   "outputs": [],
   "source": [
    "#18. How does the distribution of internet users percent differ for 2000 and 2014?\n"
   ]
  },
  {
   "cell_type": "code",
   "execution_count": null,
   "id": "40b54971-1aee-487e-a1cd-88343073ce68",
   "metadata": {},
   "outputs": [],
   "source": [
    "internet_2000 = internet_df[internet_df['Year'] == 2000]\n",
    "internet_2014 = internet_df[internet_df['Year'] == 2014]\n"
   ]
  },
  {
   "cell_type": "code",
   "execution_count": null,
   "id": "63987cfd-b904-4b6d-8804-83ec2aa6066f",
   "metadata": {},
   "outputs": [],
   "source": [
    "plt.figure(figsize=(10, 5))\n",
    "sns.kdeplot(internet_2000['Internet_Users_Pct'], fill=True, label='2000', color='red')\n",
    "sns.kdeplot(internet_2014['Internet_Users_Pct'], fill=True, label='2014', color='green')\n",
    "\n",
    "plt.title(\"Distribution of Internet Users (%) - 2000 vs 2014\")\n",
    "plt.xlabel(\"Internet Users Percentage\")\n",
    "plt.ylabel(\"Density\")\n",
    "plt.legend()\n",
    "plt.grid(True)\n",
    "plt.show()\n"
   ]
  },
  {
   "cell_type": "code",
   "execution_count": null,
   "id": "0fa194a6-48f4-4645-a84c-7a9babc53ad8",
   "metadata": {},
   "outputs": [],
   "source": []
  },
  {
   "cell_type": "code",
   "execution_count": null,
   "id": "ec928f08-f27c-4019-a67e-5c5a40250079",
   "metadata": {},
   "outputs": [],
   "source": [
    "#19. For how many countries was the percentage of internet users below 5% in 2014?\n"
   ]
  },
  {
   "cell_type": "code",
   "execution_count": null,
   "id": "d24abaae-f401-4832-b082-7e9f6b8fe2d5",
   "metadata": {},
   "outputs": [],
   "source": [
    "# Convert the column to numbers so we can compare\n",
    "internet_df['Internet_Users_Pct'] = pd.to_numeric(internet_df['Internet_Users_Pct'], errors='coerce')\n"
   ]
  },
  {
   "cell_type": "code",
   "execution_count": null,
   "id": "be2c4331-6a5d-44ab-9446-267c47983cfe",
   "metadata": {},
   "outputs": [],
   "source": [
    "# Keep only data from the year 2014\n",
    "internet_2014 = internet_df[internet_df['Year'] == 2014]\n",
    "\n"
   ]
  },
  {
   "cell_type": "code",
   "execution_count": null,
   "id": "d4b50f5c-53a9-4a2b-9e71-079843b297f0",
   "metadata": {},
   "outputs": [],
   "source": [
    "# Pick only rows where internet users is less than 5%\n",
    "low_usage = internet_2014[internet_2014['Internet_Users_Pct'] < 5]\n"
   ]
  },
  {
   "cell_type": "code",
   "execution_count": null,
   "id": "5e99efa3-63bb-45db-aad7-cd95bd295f5a",
   "metadata": {},
   "outputs": [],
   "source": [
    "# Count how many rows we have = how many countries\n",
    "print(\"Number of countries with <5% internet usage in 2014:\", len(low_usage))\n"
   ]
  },
  {
   "cell_type": "code",
   "execution_count": null,
   "id": "3453521e-81e6-4c43-96c9-f19f26f37f88",
   "metadata": {},
   "outputs": [],
   "source": [
    "print(low_usage[['Country', 'Internet_Users_Pct']])\n"
   ]
  },
  {
   "cell_type": "code",
   "execution_count": null,
   "id": "51488bcb-0653-4df5-a461-5b3bbee16580",
   "metadata": {},
   "outputs": [],
   "source": [
    "# Sort countries by internet usage (lowest to highest)\n",
    "low_usage_sorted = low_usage.sort_values(by='Internet_Users_Pct')\n"
   ]
  },
  {
   "cell_type": "code",
   "execution_count": null,
   "id": "bf061cd5-499b-4f76-9eae-6c2254750e6b",
   "metadata": {},
   "outputs": [],
   "source": [
    "print(low_usage_sorted[['Country', 'Internet_Users_Pct']])\n"
   ]
  },
  {
   "cell_type": "code",
   "execution_count": null,
   "id": "1e12a155-388e-4c24-b112-0c1befa28826",
   "metadata": {},
   "outputs": [],
   "source": []
  },
  {
   "cell_type": "code",
   "execution_count": null,
   "id": "dd2a01af-966b-4e94-b1de-95d6afa06c16",
   "metadata": {},
   "outputs": [],
   "source": [
    "#20. Merge the two DataFrames to one. Do this in a way that keeps **all rows** from each of the two DataFrames. Call the new DataFrame `gdp_and_internet_use`. Look at the first and last few rows to confirm that it merged correctly.\n",
    "\n"
   ]
  },
  {
   "cell_type": "code",
   "execution_count": null,
   "id": "815ac905-6801-4e8d-b0f4-12ac78615600",
   "metadata": {},
   "outputs": [],
   "source": [
    "gdp_and_internet_use = pd.merge(\n",
    "    gdp_df,\n",
    "    internet_df,\n",
    "    how='outer',  # keep ALL rows from both DataFrames\n",
    "    left_on=['Country', 'Year'],\n",
    "    right_on=['Country', 'Year']\n",
    ")\n"
   ]
  },
  {
   "cell_type": "code",
   "execution_count": null,
   "id": "f6667e7e-09e6-4fd2-a33c-317441af0c3e",
   "metadata": {},
   "outputs": [],
   "source": [
    "print(gdp_and_internet_use.head())   # Look at the top few rows\n",
    "\n"
   ]
  },
  {
   "cell_type": "code",
   "execution_count": null,
   "id": "059393cb-3393-4d3e-8faa-df7a245f2564",
   "metadata": {},
   "outputs": [],
   "source": [
    "print(gdp_and_internet_use.tail())   # Look at the bottom few rows"
   ]
  },
  {
   "cell_type": "code",
   "execution_count": null,
   "id": "63c12df1-9c20-4bc7-82e8-7aaf11583e8f",
   "metadata": {},
   "outputs": [],
   "source": []
  },
  {
   "cell_type": "code",
   "execution_count": null,
   "id": "d96b9411-429b-4ebe-a330-e3bbd42a12e4",
   "metadata": {},
   "outputs": [],
   "source": []
  },
  {
   "cell_type": "code",
   "execution_count": null,
   "id": "c86f849b-0352-47da-b8c5-6ec470e981df",
   "metadata": {},
   "outputs": [],
   "source": [
    "21. Find the three countries with the highest internet users percentage in 2014. Use a seaborn FacetGrid (https://seaborn.pydata.org/generated/seaborn.FacetGrid.html) to compare how the GDP per capita has changed over time for these three countries. What do you notice?\n"
   ]
  },
  {
   "cell_type": "code",
   "execution_count": null,
   "id": "cdbe4a75-4404-4e03-805a-6c5797edfd65",
   "metadata": {},
   "outputs": [],
   "source": [
    "internet_2014 = internet_df[internet_df['Year'] == 2014]"
   ]
  },
  {
   "cell_type": "code",
   "execution_count": null,
   "id": "6c7b0b9d-6bfc-407f-88e7-2813df686be3",
   "metadata": {},
   "outputs": [],
   "source": [
    "top3_internet_countries = internet_2014.sort_values(by='Internet_Users_Pct', ascending=False).head(3)\n",
    "print(top3_internet_countries.head())"
   ]
  },
  {
   "cell_type": "code",
   "execution_count": null,
   "id": "509938ac-fa1f-4cc3-8ddc-f42de2ffb678",
   "metadata": {},
   "outputs": [],
   "source": [
    "top3_countries = top3_internet_countries['Country'].tolist() #tolist() names in one raw "
   ]
  },
  {
   "cell_type": "code",
   "execution_count": null,
   "id": "0f9e6dee-6733-40a0-b242-14156bc88ed3",
   "metadata": {},
   "outputs": [],
   "source": [
    "print(\"Top 3 countries in 2014 by internet usage:\")\n",
    "print(top3_countries)"
   ]
  },
  {
   "cell_type": "code",
   "execution_count": null,
   "id": "c2478b88-d111-45d5-b3ce-538b729a63d2",
   "metadata": {},
   "outputs": [],
   "source": [
    "top3_gdp = gdp_df[gdp_df['Country'].isin(top3_countries)]\n",
    "print(top3_gdp.head())"
   ]
  },
  {
   "cell_type": "code",
   "execution_count": null,
   "id": "6093c453-6260-43c6-bae1-f41d3118195e",
   "metadata": {},
   "outputs": [],
   "source": [
    "g = sns.FacetGrid(top3_gdp, col=\"Country\", height=4, col_wrap=3)\n",
    "g.map_dataframe(sns.lineplot, x=\"Year\", y=\"GDP_Per_Capita\")\n"
   ]
  },
  {
   "cell_type": "code",
   "execution_count": null,
   "id": "07cce48d-7230-4be9-b38a-bcaef3a5dd77",
   "metadata": {},
   "outputs": [],
   "source": [
    "top3_internet_countries = internet_2014.sort_values(by='Internet_Users_Pct', ascending=False).head(4)\n",
    "print(top3_internet_countries)\n"
   ]
  },
  {
   "cell_type": "code",
   "execution_count": null,
   "id": "1a8131ba-29bc-4de3-9261-5a3fcc57e8b2",
   "metadata": {},
   "outputs": [],
   "source": [
    "top3_countries = ['Iceland', 'Bermuda', 'Norway']\n"
   ]
  },
  {
   "cell_type": "code",
   "execution_count": null,
   "id": "343e4e6c-e790-4ed9-b5c9-844e8cd3c604",
   "metadata": {},
   "outputs": [],
   "source": [
    "top3_gdp = gdp_df[gdp_df['Country'].isin(top3_countries)]\n"
   ]
  },
  {
   "cell_type": "code",
   "execution_count": null,
   "id": "425bc09d-3703-4cd7-9c58-922bc59a0145",
   "metadata": {},
   "outputs": [],
   "source": [
    "g = sns.FacetGrid(top3_gdp, col=\"Country\", height=4, col_wrap=3)\n",
    "g.map_dataframe(sns.lineplot, x=\"Year\", y=\"GDP_Per_Capita\")\n"
   ]
  },
  {
   "cell_type": "code",
   "execution_count": null,
   "id": "2b08afbb-d017-41d4-83d2-c7dcc9dadd90",
   "metadata": {},
   "outputs": [],
   "source": [
    "\n",
    "plt.figure(figsize=(10, 6))\n",
    "\n",
    "for country in top3_countries:\n",
    "    country_data = top3_gdp[top3_gdp['Country'] == country]\n",
    "    plt.plot(country_data['Year'], country_data['GDP_Per_Capita'], marker='o', label=country)\n",
    "\n",
    "plt.title(\"GDP Per Capita Over Time for Top 3 Internet Usage Countries (2014)\")\n",
    "plt.xlabel(\"Year\")\n",
    "plt.ylabel(\"GDP Per Capita\")\n",
    "plt.legend()\n",
    "plt.grid(True)\n",
    "plt.tight_layout()\n",
    "plt.show()\n",
    "\n"
   ]
  },
  {
   "cell_type": "code",
   "execution_count": null,
   "id": "649cf882-d4a2-4160-aa3c-0bf843a417b1",
   "metadata": {},
   "outputs": [],
   "source": []
  },
  {
   "cell_type": "code",
   "execution_count": null,
   "id": "6ea680f9-1054-4a70-87fd-993a1d3eb2f9",
   "metadata": {},
   "outputs": [],
   "source": []
  },
  {
   "cell_type": "code",
   "execution_count": null,
   "id": "c63ae3b2-5ad3-43b7-bccc-603d31ab1069",
   "metadata": {},
   "outputs": [],
   "source": []
  },
  {
   "cell_type": "code",
   "execution_count": null,
   "id": "f2651481-df0d-463f-a6e5-64766d0db820",
   "metadata": {},
   "outputs": [],
   "source": [
    "22. Subset `gdp_and_internet_use` to just the year 2014. Save this as a new dataframe named `gdp_and_internet_use_2014`.\n"
   ]
  },
  {
   "cell_type": "code",
   "execution_count": null,
   "id": "44b247d1-1f46-44a3-9c0e-f9491b7b1c16",
   "metadata": {},
   "outputs": [],
   "source": [
    "gdp_and_internet_use_2014 = gdp_and_internet_use[gdp_and_internet_use['Year'] == 2014]\n"
   ]
  },
  {
   "cell_type": "code",
   "execution_count": null,
   "id": "a25b7bf5-4ec7-461c-8895-b9638193953d",
   "metadata": {},
   "outputs": [],
   "source": [
    "print(gdp_and_internet_use_2014.head())"
   ]
  },
  {
   "cell_type": "code",
   "execution_count": null,
   "id": "48ee842e-1aee-422e-867a-b86797fdb7d9",
   "metadata": {},
   "outputs": [],
   "source": [
    "print(gdp_and_internet_use_2014.shape) "
   ]
  },
  {
   "cell_type": "code",
   "execution_count": null,
   "id": "696a2181-655b-45de-a114-f1238407523c",
   "metadata": {},
   "outputs": [],
   "source": []
  },
  {
   "cell_type": "code",
   "execution_count": null,
   "id": "81107110-e40d-4e66-8e58-3b3aa866e484",
   "metadata": {},
   "outputs": [],
   "source": [
    "23. Create a plot which compares Internet Users Percentage and GDP per Capita for the year 2014. What do you notice from this plot? If you see any unusual points, investigate them."
   ]
  },
  {
   "cell_type": "code",
   "execution_count": null,
   "id": "bc45dee4-6473-47c9-b0bf-c7d9e014d8cd",
   "metadata": {},
   "outputs": [],
   "source": [
    "# Use .loc to avoid SettingWithCopyWarning\n",
    "gdp_and_internet_use_2014.loc[:, 'Internet_Users_Pct'] = pd.to_numeric(\n",
    "    gdp_and_internet_use_2014['Internet_Users_Pct'], errors='coerce'\n",
    ")\n",
    "gdp_and_internet_use_2014.loc[:, 'GDP_Per_Capita'] = pd.to_numeric(\n",
    "    gdp_and_internet_use_2014['GDP_Per_Capita'], errors='coerce'\n",
    ")\n"
   ]
  },
  {
   "cell_type": "code",
   "execution_count": null,
   "id": "ae73dc12-df9c-43ce-92f7-1bcdb1d1a7e4",
   "metadata": {},
   "outputs": [],
   "source": [
    "# Drop rows with missing values\n",
    "plot_data = gdp_and_internet_use_2014.dropna(subset=['Internet_Users_Pct', 'GDP_Per_Capita'])\n",
    "print(plot_data)"
   ]
  },
  {
   "cell_type": "code",
   "execution_count": null,
   "id": "cea78834-964b-4fad-bcf9-4229d1ec8b24",
   "metadata": {},
   "outputs": [],
   "source": [
    "plt.figure(figsize=(10, 6))\n",
    "\n",
    "sns.scatterplot(\n",
    "    data=plot_data,\n",
    "    x='Internet_Users_Pct',\n",
    "    y='GDP_Per_Capita'\n",
    ")\n",
    "\n",
    "plt.title(\"Internet Users % vs GDP per Capita (2014)\")\n",
    "plt.xlabel(\"Internet Users Percentage\")\n",
    "plt.ylabel(\"GDP per Capita\")\n",
    "plt.grid(True)\n",
    "plt.tight_layout()\n",
    "plt.show()\n"
   ]
  },
  {
   "cell_type": "code",
   "execution_count": null,
   "id": "166c387e-98e0-4c02-99ec-3bbdda0f412b",
   "metadata": {},
   "outputs": [],
   "source": [
    "plt.figure(figsize=(12, 8))\n",
    "\n",
    "sns.scatterplot(\n",
    "    data=plot_data,\n",
    "    x='Internet_Users_Pct',\n",
    "    y='GDP_Per_Capita'\n",
    ")\n",
    "\n",
    "for i, row in plot_data.iterrows():\n",
    "    plt.text(\n",
    "        row['Internet_Users_Pct'] + 0.5, \n",
    "        row['GDP_Per_Capita'],\n",
    "        row['Country'],\n",
    "        fontsize=8\n",
    "    )\n",
    "\n",
    "plt.title(\"Internet Users % vs GDP per Capita (2014)\")\n",
    "plt.xlabel(\"Internet Users Percentage\")\n",
    "plt.ylabel(\"GDP per Capita\")\n",
    "plt.grid(True)\n",
    "plt.tight_layout()\n",
    "plt.show()\n"
   ]
  },
  {
   "cell_type": "code",
   "execution_count": null,
   "id": "b676e696-cf53-4b32-9baf-1e78919bea64",
   "metadata": {},
   "outputs": [],
   "source": []
  },
  {
   "cell_type": "code",
   "execution_count": null,
   "id": "34213d73-4367-4c85-b869-b4da46652eb2",
   "metadata": {},
   "outputs": [],
   "source": [
    "24. **Stretch Question:** Use the `qcut` function from pandas (https://pandas.pydata.org/docs/reference/api/pandas.qcut.html) to divide countries in `gdp_per_capita_2014` into three groups based on their GDP per capita values. Label these groups as \"Low\", \"Medium\", and \"High\". Put these labels in a new column, named \"GDP_group\".\n"
   ]
  },
  {
   "cell_type": "code",
   "execution_count": null,
   "id": "d302d903-6196-4e0c-8246-96b983661adb",
   "metadata": {},
   "outputs": [],
   "source": [
    "gdp_per_capita_2014 = gdp_df[gdp_df['Year'] == 2014]\n"
   ]
  },
  {
   "cell_type": "code",
   "execution_count": null,
   "id": "67b7b45b-3b77-4400-aa6a-403a0c04bb7c",
   "metadata": {},
   "outputs": [],
   "source": [
    "gdp_per_capita_2014 = gdp_per_capita_2014.copy()\n",
    "gdp_per_capita_2014['GDP_group'] = pd.qcut(\n",
    "    gdp_per_capita_2014['GDP_Per_Capita'],\n",
    "    q=3,\n",
    "    labels=[\"Low\", \"Medium\", \"High\"]\n",
    ")\n",
    "\n",
    "\n"
   ]
  },
  {
   "cell_type": "code",
   "execution_count": null,
   "id": "17b7d5a7-9a57-4f82-b926-e48891ad06b8",
   "metadata": {},
   "outputs": [],
   "source": [
    "print(gdp_per_capita_2014[['Country', 'GDP_Per_Capita', 'GDP_group']].head(10))\n"
   ]
  },
  {
   "cell_type": "code",
   "execution_count": null,
   "id": "38ee444d-3233-40e3-aacf-c946c48f66e3",
   "metadata": {},
   "outputs": [],
   "source": []
  },
  {
   "cell_type": "code",
   "execution_count": null,
   "id": "4d765539-035e-4c8b-b387-cba11eec5475",
   "metadata": {},
   "outputs": [],
   "source": [
    "25. **Stretch Question:** How does the median internet users percentage compare for the three gdp groups?\n"
   ]
  },
  {
   "cell_type": "code",
   "execution_count": null,
   "id": "e587a2b3-c34f-4811-ad59-8d0849f1495d",
   "metadata": {},
   "outputs": [],
   "source": [
    "print(gdp_per_capita_2014.columns)\n"
   ]
  },
  {
   "cell_type": "code",
   "execution_count": null,
   "id": "fb332ccf-cf78-4de2-be30-21f47c72a2d7",
   "metadata": {},
   "outputs": [],
   "source": []
  },
  {
   "cell_type": "code",
   "execution_count": null,
   "id": "3a8d3dcd-691d-4140-bd3b-e8ee354ab4c2",
   "metadata": {},
   "outputs": [],
   "source": [
    "gdp_per_capita_2014 = gdp_and_internet_use_2014[['Country', 'Year', 'GDP_Per_Capita', 'Internet_Users_Pct']].copy()\n",
    "\n",
    "gdp_per_capita_2014['GDP_group'] = pd.qcut(\n",
    "    gdp_per_capita_2014['GDP_Per_Capita'],\n",
    "    q=3,\n",
    "    labels=['Low', 'Medium', 'High']\n",
    ")\n",
    "\n",
    "\n"
   ]
  },
  {
   "cell_type": "code",
   "execution_count": null,
   "id": "80d3bfb1-1fa2-4b44-9521-2f6a9d187a11",
   "metadata": {
    "scrolled": true
   },
   "outputs": [],
   "source": [
    "median_internet_by_group = gdp_per_capita_2014.groupby('GDP_group')['Internet_Users_Pct'].median()\n",
    "print(median_internet_by_group)\n"
   ]
  },
  {
   "cell_type": "code",
   "execution_count": null,
   "id": "e67bed49-290d-4e66-84eb-09de95ae8526",
   "metadata": {},
   "outputs": [],
   "source": []
  },
  {
   "cell_type": "code",
   "execution_count": null,
   "id": "8b5cd4f1-e7bc-4108-bc56-b7f40812adb9",
   "metadata": {},
   "outputs": [],
   "source": []
  },
  {
   "cell_type": "code",
   "execution_count": null,
   "id": "8da5b36c-bb5d-4e11-b691-d23d9f59bc0f",
   "metadata": {},
   "outputs": [],
   "source": [
    "### Bonus exercise:\n",
    "1.    Download another data set from the UN data (http://data.un.org/Explorer.aspx) to merge with your data and explore.\n",
    "\n",
    "\n",
    "    "
   ]
  },
  {
   "cell_type": "code",
   "execution_count": null,
   "id": "84a711b9-8451-4be8-bb89-e3ad1c6c683b",
   "metadata": {},
   "outputs": [],
   "source": [
    "#Download \"Investment in ICT with Private Participation\""
   ]
  },
  {
   "cell_type": "code",
   "execution_count": null,
   "id": "dea188bb-8ad0-4687-91a1-f03e7c1011bd",
   "metadata": {},
   "outputs": [],
   "source": []
  },
  {
   "cell_type": "code",
   "execution_count": null,
   "id": "6fe56329-0a68-4c36-9a56-a69751d25de3",
   "metadata": {
    "scrolled": true
   },
   "outputs": [],
   "source": [
    "import pandas as pd\n",
    "\n",
    "# Load the newly saved CSV file\n",
    "file_path = 'Investment in ICT with Private Participation.csv'\n",
    "ict_df = pd.read_csv(file_path)\n",
    "print(ict_df.head())\n",
    "\n"
   ]
  },
  {
   "cell_type": "code",
   "execution_count": null,
   "id": "ed42c345-1f8d-49e9-8cf1-ec3bd30df3eb",
   "metadata": {},
   "outputs": [],
   "source": []
  },
  {
   "cell_type": "code",
   "execution_count": null,
   "id": "607b891b-aab8-49d1-9b55-038e637d5c19",
   "metadata": {},
   "outputs": [],
   "source": [
    "ict_df.rename(columns={\n",
    "    'Country or Area': 'Country',\n",
    "    'Value': 'ICT_Investment'\n",
    "}, inplace=True)\n",
    "ict_df"
   ]
  },
  {
   "cell_type": "code",
   "execution_count": null,
   "id": "94ea2e74-dbd2-46c8-9407-93a109fe460d",
   "metadata": {},
   "outputs": [],
   "source": [
    "if 'Value Footnotes' in ict_df.columns:\n",
    "    ict_df.drop(columns=['Value Footnotes'], inplace=True)\n"
   ]
  },
  {
   "cell_type": "code",
   "execution_count": null,
   "id": "0b38d84e-6d36-47b0-8913-f94aff2487e4",
   "metadata": {},
   "outputs": [],
   "source": [
    "print(ict_df.isnull().sum())   \n",
    "\n"
   ]
  },
  {
   "cell_type": "code",
   "execution_count": null,
   "id": "cb1a8fc5-0735-423c-9873-89314aaf404c",
   "metadata": {},
   "outputs": [],
   "source": [
    "print(ict_df.dtypes)        \n"
   ]
  },
  {
   "cell_type": "code",
   "execution_count": null,
   "id": "76d037ff-e286-4483-b929-1175d11b90dc",
   "metadata": {},
   "outputs": [],
   "source": [
    "print(ict_df.tail())          "
   ]
  },
  {
   "cell_type": "code",
   "execution_count": null,
   "id": "cac71dc7-45a4-4ba2-bca2-4c0609d9b906",
   "metadata": {},
   "outputs": [],
   "source": []
  },
  {
   "cell_type": "code",
   "execution_count": 154,
   "id": "1298f4f7-8f67-4724-901e-f4cd3aa24570",
   "metadata": {},
   "outputs": [
    {
     "name": "stdout",
     "output_type": "stream",
     "text": [
      "       Country  Year  GDP_Per_Capita  ICT_Investment\n",
      "0  Afghanistan  2023     1992.424394             NaN\n",
      "1  Afghanistan  2022     1981.710168             NaN\n",
      "2  Afghanistan  2021     2144.166570             NaN\n",
      "3  Afghanistan  2020     2769.685745             NaN\n",
      "4  Afghanistan  2019     2927.245144             NaN\n"
     ]
    }
   ],
   "source": [
    "gdp_df.rename(columns={'Country or Area': 'Country'}, inplace=True)\n",
    "\n",
    "merged_df = pd.merge(gdp_df, ict_df, on=['Country', 'Year'], how='left')\n",
    "\n",
    "\n",
    "print(merged_df.head())\n"
   ]
  },
  {
   "cell_type": "code",
   "execution_count": 156,
   "id": "cab8775b-6cd0-4796-a097-521a1f44f189",
   "metadata": {},
   "outputs": [
    {
     "name": "stdout",
     "output_type": "stream",
     "text": [
      "<class 'pandas.core.frame.DataFrame'>\n",
      "RangeIndex: 8219 entries, 0 to 8218\n",
      "Data columns (total 4 columns):\n",
      " #   Column          Non-Null Count  Dtype  \n",
      "---  ------          --------------  -----  \n",
      " 0   Country         8219 non-null   object \n",
      " 1   Year            8219 non-null   int64  \n",
      " 2   GDP_Per_Capita  8219 non-null   float64\n",
      " 3   ICT_Investment  319 non-null    float64\n",
      "dtypes: float64(2), int64(1), object(1)\n",
      "memory usage: 257.0+ KB\n"
     ]
    }
   ],
   "source": [
    "merged_df.info()\n"
   ]
  },
  {
   "cell_type": "code",
   "execution_count": null,
   "id": "2aedb3cc-fe96-46f8-b01c-8210ed82336b",
   "metadata": {},
   "outputs": [],
   "source": []
  },
  {
   "cell_type": "code",
   "execution_count": 160,
   "id": "423c5153-152b-420d-8a70-4a57db092096",
   "metadata": {},
   "outputs": [
    {
     "name": "stderr",
     "output_type": "stream",
     "text": [
      "C:\\Users\\jingl\\AppData\\Local\\Temp\\ipykernel_9880\\2042031588.py:1: FutureWarning: A value is trying to be set on a copy of a DataFrame or Series through chained assignment using an inplace method.\n",
      "The behavior will change in pandas 3.0. This inplace method will never work because the intermediate object on which we are setting values always behaves as a copy.\n",
      "\n",
      "For example, when doing 'df[col].method(value, inplace=True)', try using 'df.method({col: value}, inplace=True)' or df[col] = df[col].method(value) instead, to perform the operation inplace on the original object.\n",
      "\n",
      "\n",
      "  merged_df['ICT_Investment'].fillna(0, inplace=True)\n"
     ]
    },
    {
     "data": {
      "text/html": [
       "<div>\n",
       "<style scoped>\n",
       "    .dataframe tbody tr th:only-of-type {\n",
       "        vertical-align: middle;\n",
       "    }\n",
       "\n",
       "    .dataframe tbody tr th {\n",
       "        vertical-align: top;\n",
       "    }\n",
       "\n",
       "    .dataframe thead th {\n",
       "        text-align: right;\n",
       "    }\n",
       "</style>\n",
       "<table border=\"1\" class=\"dataframe\">\n",
       "  <thead>\n",
       "    <tr style=\"text-align: right;\">\n",
       "      <th></th>\n",
       "      <th>Country</th>\n",
       "      <th>Year</th>\n",
       "      <th>GDP_Per_Capita</th>\n",
       "      <th>ICT_Investment</th>\n",
       "    </tr>\n",
       "  </thead>\n",
       "  <tbody>\n",
       "    <tr>\n",
       "      <th>0</th>\n",
       "      <td>Afghanistan</td>\n",
       "      <td>2023</td>\n",
       "      <td>1992.424394</td>\n",
       "      <td>0.0</td>\n",
       "    </tr>\n",
       "    <tr>\n",
       "      <th>1</th>\n",
       "      <td>Afghanistan</td>\n",
       "      <td>2022</td>\n",
       "      <td>1981.710168</td>\n",
       "      <td>0.0</td>\n",
       "    </tr>\n",
       "    <tr>\n",
       "      <th>2</th>\n",
       "      <td>Afghanistan</td>\n",
       "      <td>2021</td>\n",
       "      <td>2144.166570</td>\n",
       "      <td>0.0</td>\n",
       "    </tr>\n",
       "    <tr>\n",
       "      <th>3</th>\n",
       "      <td>Afghanistan</td>\n",
       "      <td>2020</td>\n",
       "      <td>2769.685745</td>\n",
       "      <td>0.0</td>\n",
       "    </tr>\n",
       "    <tr>\n",
       "      <th>4</th>\n",
       "      <td>Afghanistan</td>\n",
       "      <td>2019</td>\n",
       "      <td>2927.245144</td>\n",
       "      <td>0.0</td>\n",
       "    </tr>\n",
       "    <tr>\n",
       "      <th>...</th>\n",
       "      <td>...</td>\n",
       "      <td>...</td>\n",
       "      <td>...</td>\n",
       "      <td>...</td>\n",
       "    </tr>\n",
       "    <tr>\n",
       "      <th>8214</th>\n",
       "      <td>Zimbabwe</td>\n",
       "      <td>1994</td>\n",
       "      <td>3965.730986</td>\n",
       "      <td>0.0</td>\n",
       "    </tr>\n",
       "    <tr>\n",
       "      <th>8215</th>\n",
       "      <td>Zimbabwe</td>\n",
       "      <td>1993</td>\n",
       "      <td>3634.750494</td>\n",
       "      <td>0.0</td>\n",
       "    </tr>\n",
       "    <tr>\n",
       "      <th>8216</th>\n",
       "      <td>Zimbabwe</td>\n",
       "      <td>1992</td>\n",
       "      <td>3649.891947</td>\n",
       "      <td>0.0</td>\n",
       "    </tr>\n",
       "    <tr>\n",
       "      <th>8217</th>\n",
       "      <td>Zimbabwe</td>\n",
       "      <td>1991</td>\n",
       "      <td>4126.405247</td>\n",
       "      <td>0.0</td>\n",
       "    </tr>\n",
       "    <tr>\n",
       "      <th>8218</th>\n",
       "      <td>Zimbabwe</td>\n",
       "      <td>1990</td>\n",
       "      <td>4013.299059</td>\n",
       "      <td>0.0</td>\n",
       "    </tr>\n",
       "  </tbody>\n",
       "</table>\n",
       "<p>8219 rows × 4 columns</p>\n",
       "</div>"
      ],
      "text/plain": [
       "          Country  Year  GDP_Per_Capita  ICT_Investment\n",
       "0     Afghanistan  2023     1992.424394             0.0\n",
       "1     Afghanistan  2022     1981.710168             0.0\n",
       "2     Afghanistan  2021     2144.166570             0.0\n",
       "3     Afghanistan  2020     2769.685745             0.0\n",
       "4     Afghanistan  2019     2927.245144             0.0\n",
       "...           ...   ...             ...             ...\n",
       "8214     Zimbabwe  1994     3965.730986             0.0\n",
       "8215     Zimbabwe  1993     3634.750494             0.0\n",
       "8216     Zimbabwe  1992     3649.891947             0.0\n",
       "8217     Zimbabwe  1991     4126.405247             0.0\n",
       "8218     Zimbabwe  1990     4013.299059             0.0\n",
       "\n",
       "[8219 rows x 4 columns]"
      ]
     },
     "execution_count": 160,
     "metadata": {},
     "output_type": "execute_result"
    }
   ],
   "source": [
    "merged_df['ICT_Investment'].fillna(0, inplace=True)\n",
    "merged_df"
   ]
  },
  {
   "cell_type": "code",
   "execution_count": null,
   "id": "7b9222d6-f7bf-4612-a82f-7f6cf43d4f16",
   "metadata": {},
   "outputs": [],
   "source": []
  },
  {
   "cell_type": "code",
   "execution_count": 162,
   "id": "78b87486-5daa-43f9-9887-88a2938464a2",
   "metadata": {},
   "outputs": [
    {
     "data": {
      "image/png": "[encoded data removed]",
      "text/plain": [
       "<Figure size 640x480 with 1 Axes>"
      ]
     },
     "metadata": {},
     "output_type": "display_data"
    }
   ],
   "source": [
    "import matplotlib.pyplot as plt\n",
    "\n",
    "filtered_df = merged_df.dropna(subset=['ICT_Investment'])\n",
    "\n",
    "plt.scatter(filtered_df['ICT_Investment'], filtered_df['GDP_Per_Capita'])\n",
    "plt.xlabel('ICT Investment (USD)')\n",
    "plt.ylabel('GDP Per Capita')\n",
    "plt.title('ICT Investment vs GDP Per Capita')\n",
    "plt.grid(True)\n",
    "plt.show()\n"
   ]
  },
  {
   "cell_type": "code",
   "execution_count": null,
   "id": "22081b12-39a2-4afe-91fe-90740e919333",
   "metadata": {},
   "outputs": [],
   "source": []
  },
  {
   "cell_type": "code",
   "execution_count": 164,
   "id": "84672705-1721-40f8-aded-ecc6ca0e8599",
   "metadata": {},
   "outputs": [
    {
     "name": "stdout",
     "output_type": "stream",
     "text": [
      "Country\n",
      "Brazil                                               1.037503e+09\n",
      "Latin America & Caribbean (IDA & IBRD)               8.839029e+08\n",
      "Latin America & Caribbean                            8.839029e+08\n",
      "Latin America & Caribbean (excluding high income)    8.836088e+08\n",
      "Late-demographic dividend                            6.658559e+08\n",
      "East Asia & Pacific (excluding high income)          3.908174e+08\n",
      "East Asia & Pacific (IDA & IBRD)                     3.908174e+08\n",
      "China                                                3.837350e+08\n",
      "IBRD only                                            3.249882e+08\n",
      "Upper middle income                                  2.443706e+08\n",
      "Name: ICT_Investment, dtype: float64\n"
     ]
    }
   ],
   "source": [
    "avg_ict_by_country = merged_df.groupby('Country')['ICT_Investment'].mean().sort_values(ascending=False)\n",
    "print(avg_ict_by_country.head(10))\n"
   ]
  },
  {
   "cell_type": "code",
   "execution_count": null,
   "id": "fe04aa42-7125-4c66-9a3f-5ddba554cb22",
   "metadata": {},
   "outputs": [],
   "source": []
  },
  {
   "cell_type": "code",
   "execution_count": null,
   "id": "c97828a1-c4a8-4b6e-ab2d-b1fbe05bc50a",
   "metadata": {},
   "outputs": [],
   "source": []
  },
  {
   "cell_type": "code",
   "execution_count": null,
   "id": "b2b279ad-7ee4-4106-90ac-f4d75d064579",
   "metadata": {},
   "outputs": [],
   "source": []
  },
  {
   "cell_type": "code",
   "execution_count": null,
   "id": "7dacc479-9338-4403-96d6-6b88ba6fdd97",
   "metadata": {},
   "outputs": [],
   "source": []
  }
 ],
 "metadata": {
  "kernelspec": {
   "display_name": "Python 3 (ipykernel)",
   "language": "python",
   "name": "python3"
  },
  "language_info": {
   "codemirror_mode": {
    "name": "ipython",
    "version": 3
   },
   "file_extension": ".py",
   "mimetype": "text/x-python",
   "name": "python",
   "nbconvert_exporter": "python",
   "pygments_lexer": "ipython3",
   "version": "3.12.7"
  }
 },
 "nbformat": 4,
 "nbformat_minor": 5
}
